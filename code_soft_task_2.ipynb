{
  "nbformat": 4,
  "nbformat_minor": 0,
  "metadata": {
    "colab": {
      "provenance": [],
      "authorship_tag": "ABX9TyMK3cKDJ0Zo8ttA/S94jXXt",
      "include_colab_link": true
    },
    "kernelspec": {
      "name": "python3",
      "display_name": "Python 3"
    },
    "language_info": {
      "name": "python"
    }
  },
  "cells": [
    {
      "cell_type": "markdown",
      "metadata": {
        "id": "view-in-github",
        "colab_type": "text"
      },
      "source": [
        "<a href=\"https://colab.research.google.com/github/Akshaya-2011/codsoft/blob/main/code_soft_task_2.ipynb\" target=\"_parent\"><img src=\"https://colab.research.google.com/assets/colab-badge.svg\" alt=\"Open In Colab\"/></a>"
      ]
    },
    {
      "cell_type": "code",
      "source": [
        "def add(x, y):\n",
        "    return x + y\n",
        "\n",
        "def subtract(x, y):\n",
        "    return x - y\n",
        "\n",
        "def multiply(x, y):\n",
        "    return x * y\n",
        "\n",
        "def divide(x, y):\n",
        "    if y != 0:\n",
        "        return x / y\n",
        "    else:\n",
        "        return \"Cannot divide by zero\"\n",
        "\n",
        "def calculator():\n",
        "    print(\"Simple Calculator\")\n",
        "    print(\"Operations:\")\n",
        "    print(\"1. Addition (+)\")\n",
        "    print(\"2. Subtraction (-)\")\n",
        "    print(\"3. Multiplication (*)\")\n",
        "    print(\"4. Division (/)\")\n",
        "\n",
        "    try:\n",
        "        num1 = float(input(\"Enter first number: \"))\n",
        "        num2 = float(input(\"Enter second number: \"))\n",
        "        operation = input(\"Choose operation (1/2/3/4): \")\n",
        "\n",
        "        if operation == \"1\":\n",
        "            result = add(num1, num2)\n",
        "        elif operation == \"2\":\n",
        "            result = subtract(num1, num2)\n",
        "        elif operation == \"3\":\n",
        "            result = multiply(num1, num2)\n",
        "        elif operation == \"4\":\n",
        "            result = divide(num1, num2)\n",
        "        else:\n",
        "            print(\"Invalid operation. Please choose 1, 2, 3, or 4.\")\n",
        "            return\n",
        "\n",
        "        print(f\"Result: {result}\")\n",
        "\n",
        "    except ValueError:\n",
        "        print(\"Invalid input. Please enter valid numbers.\")\n",
        "\n",
        "if __name__ == \"__main__\":\n",
        "    calculator()\n"
      ],
      "metadata": {
        "colab": {
          "base_uri": "https://localhost:8080/"
        },
        "id": "TyHFMX2iz3Bx",
        "outputId": "f107d484-efbd-499d-ad7b-70d3fce29cc0"
      },
      "execution_count": null,
      "outputs": [
        {
          "output_type": "stream",
          "name": "stdout",
          "text": [
            "Simple Calculator\n",
            "Operations:\n",
            "1. Addition (+)\n",
            "2. Subtraction (-)\n",
            "3. Multiplication (*)\n",
            "4. Division (/)\n",
            "Enter first number: 40\n",
            "Enter second number: 60\n",
            "Choose operation (1/2/3/4): 4\n",
            "Result: 0.6666666666666666\n"
          ]
        }
      ]
    }
  ]
}