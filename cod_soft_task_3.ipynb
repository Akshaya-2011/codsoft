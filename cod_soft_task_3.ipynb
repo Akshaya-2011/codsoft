{
  "nbformat": 4,
  "nbformat_minor": 0,
  "metadata": {
    "colab": {
      "provenance": [],
      "authorship_tag": "ABX9TyN52FIhGKdkWsEUSqg64Y/G",
      "include_colab_link": true
    },
    "kernelspec": {
      "name": "python3",
      "display_name": "Python 3"
    },
    "language_info": {
      "name": "python"
    }
  },
  "cells": [
    {
      "cell_type": "markdown",
      "metadata": {
        "id": "view-in-github",
        "colab_type": "text"
      },
      "source": [
        "<a href=\"https://colab.research.google.com/github/Akshaya-2011/codsoft/blob/main/cod_soft_task_3.ipynb\" target=\"_parent\"><img src=\"https://colab.research.google.com/assets/colab-badge.svg\" alt=\"Open In Colab\"/></a>"
      ]
    },
    {
      "cell_type": "code",
      "source": [
        "import random\n",
        "import string\n",
        "\n",
        "def generate_password(length):\n",
        "    characters = string.ascii_letters + string.digits + string.punctuation\n",
        "    password = ''.join(random.choice(characters) for _ in range(length))\n",
        "    return password\n",
        "\n",
        "def main():\n",
        "    try:\n",
        "        length = int(input(\"Enter the desired length of the password: \"))\n",
        "        if length <= 0:\n",
        "            print(\"Please enter a positive length.\")\n",
        "            return\n",
        "\n",
        "        password = generate_password(length)\n",
        "        print(\"Generated Password:\", password)\n",
        "\n",
        "    except ValueError:\n",
        "        print(\"Invalid input. Please enter a valid integer.\")\n",
        "\n",
        "if __name__ == \"__main__\":\n",
        "    main()\n"
      ],
      "metadata": {
        "colab": {
          "base_uri": "https://localhost:8080/"
        },
        "id": "YX_YvqJQ1k_N",
        "outputId": "0c0bb1ac-f269-4406-ea2f-90e8f031ce79"
      },
      "execution_count": null,
      "outputs": [
        {
          "output_type": "stream",
          "name": "stdout",
          "text": [
            "Enter the desired length of the password: 5\n",
            "Generated Password: KPR;5\n"
          ]
        }
      ]
    }
  ]
}