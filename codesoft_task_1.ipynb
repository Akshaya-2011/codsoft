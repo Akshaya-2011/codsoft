{
  "nbformat": 4,
  "nbformat_minor": 0,
  "metadata": {
    "colab": {
      "provenance": [],
      "authorship_tag": "ABX9TyP1VXiLDSBDFwo2DKEQzZtx",
      "include_colab_link": true
    },
    "kernelspec": {
      "name": "python3",
      "display_name": "Python 3"
    },
    "language_info": {
      "name": "python"
    }
  },
  "cells": [
    {
      "cell_type": "markdown",
      "metadata": {
        "id": "view-in-github",
        "colab_type": "text"
      },
      "source": [
        "<a href=\"https://colab.research.google.com/github/Akshaya-2011/codsoft/blob/main/codesoft_task_1.ipynb\" target=\"_parent\"><img src=\"https://colab.research.google.com/assets/colab-badge.svg\" alt=\"Open In Colab\"/></a>"
      ]
    },
    {
      "cell_type": "code",
      "execution_count": null,
      "metadata": {
        "colab": {
          "base_uri": "https://localhost:8080/"
        },
        "id": "37BqM8PIzbb-",
        "outputId": "10521df8-40ef-4afd-fc87-5c47ab2d4a1a"
      },
      "outputs": [
        {
          "output_type": "stream",
          "name": "stdout",
          "text": [
            "\n",
            "1. Show Tasks\n",
            "2. Add Task\n",
            "3. Mark Task as Done\n",
            "4. Exit\n",
            "Enter your choice (1/2/3/4): 3\n",
            "Enter task index to mark as done: 45\n",
            "Invalid task index.\n",
            "\n",
            "1. Show Tasks\n",
            "2. Add Task\n",
            "3. Mark Task as Done\n",
            "4. Exit\n",
            "Enter your choice (1/2/3/4): 4\n",
            "Goodbye!\n"
          ]
        }
      ],
      "source": [
        "import os\n",
        "import json\n",
        "\n",
        "def load_tasks():\n",
        "    if os.path.exists(\"tasks.json\"):\n",
        "        with open(\"tasks.json\", \"r\") as file:\n",
        "            return json.load(file)\n",
        "    else:\n",
        "        return []\n",
        "\n",
        "def save_tasks(tasks):\n",
        "    with open(\"tasks.json\", \"w\") as file:\n",
        "        json.dump(tasks, file)\n",
        "\n",
        "def show_tasks(tasks):\n",
        "    if not tasks:\n",
        "        print(\"No tasks found.\")\n",
        "    else:\n",
        "        print(\"Tasks:\")\n",
        "        for i, task in enumerate(tasks, 1):\n",
        "            status = \"Done\" if task[\"done\"] else \"Pending\"\n",
        "            print(f\"{i}. {task['description']} - {status}\")\n",
        "\n",
        "def add_task(tasks, description):\n",
        "    tasks.append({\"description\": description, \"done\": False})\n",
        "    print(\"Task added successfully.\")\n",
        "\n",
        "def mark_task_done(tasks, index):\n",
        "    if 1 <= index <= len(tasks):\n",
        "        tasks[index - 1][\"done\"] = True\n",
        "        print(\"Task marked as done.\")\n",
        "    else:\n",
        "        print(\"Invalid task index.\")\n",
        "\n",
        "def main():\n",
        "    tasks = load_tasks()\n",
        "\n",
        "    while True:\n",
        "        print(\"\\n1. Show Tasks\\n2. Add Task\\n3. Mark Task as Done\\n4. Exit\")\n",
        "        choice = input(\"Enter your choice (1/2/3/4): \")\n",
        "\n",
        "        if choice == \"1\":\n",
        "            show_tasks(tasks)\n",
        "        elif choice == \"2\":\n",
        "            description = input(\"Enter task description: \")\n",
        "            add_task(tasks, description)\n",
        "        elif choice == \"3\":\n",
        "            index = int(input(\"Enter task index to mark as done: \"))\n",
        "            mark_task_done(tasks, index)\n",
        "        elif choice == \"4\":\n",
        "            save_tasks(tasks)\n",
        "            print(\"Goodbye!\")\n",
        "            break\n",
        "        else:\n",
        "            print(\"Invalid choice. Please enter 1, 2, 3, or 4.\")\n",
        "\n",
        "if __name__ == \"__main__\":\n",
        "    main()\n"
      ]
    }
  ]
}